{
 "cells": [
  {
   "cell_type": "markdown",
   "metadata": {},
   "source": [
    "![title](logo.jpg)\n",
    "\n",
    "# Gaussian Discriminant Analysis"
   ]
  },
  {
   "cell_type": "code",
   "execution_count": 122,
   "metadata": {},
   "outputs": [],
   "source": [
    "import numpy as np\n",
    "import matplotlib.pyplot as plt\n",
    "import sklearn\n",
    "from sklearn import datasets\n",
    "from sklearn.model_selection import train_test_split\n",
    "%matplotlib inline"
   ]
  },
  {
   "cell_type": "markdown",
   "metadata": {},
   "source": [
    "Load the iris Dataset"
   ]
  },
  {
   "cell_type": "code",
   "execution_count": 123,
   "metadata": {},
   "outputs": [],
   "source": [
    "iris = sklearn.datasets.load_iris()\n",
    "X = iris.data\n",
    "Y = iris.target"
   ]
  },
  {
   "cell_type": "markdown",
   "metadata": {},
   "source": [
    "Train/Test Split"
   ]
  },
  {
   "cell_type": "code",
   "execution_count": 124,
   "metadata": {},
   "outputs": [],
   "source": [
    "X_train, X_test, Y_train, Y_test = train_test_split(X, Y, test_size=0.3)"
   ]
  },
  {
   "cell_type": "markdown",
   "metadata": {},
   "source": [
    "The GDA class"
   ]
  },
  {
   "cell_type": "code",
   "execution_count": 125,
   "metadata": {},
   "outputs": [],
   "source": [
    "class GDA():\n",
    "    \n",
    "    def __init__(self):\n",
    "        # 3 params sigma/MU_i/probability of each class\n",
    "        self.sigma = None\n",
    "        self.Mu = None\n",
    "        self.prob_of_c = None\n",
    "        \n",
    "        \n",
    "        \n",
    "    def CalculateprobabilityOfY(self,Y,i):\n",
    "        #return a list contains the probability of each class\n",
    "        prob = (np.sum((Y == i)*1))/Y.shape[0]\n",
    "        return prob\n",
    "    \n",
    "    \n",
    "    \n",
    "    def EstimateMu_i(self,X,Y,i):\n",
    "        # return the MU value for class i\n",
    "        a = ((Y == i)*1).reshape(-1,1)\n",
    "        a = a * X\n",
    "        a = np.sum(a,axis=0)\n",
    "        b = np.sum((Y == i)*1)\n",
    "        return a/b\n",
    "    \n",
    "    \n",
    "    \n",
    "    def EstimateSigma(self,X,Y):\n",
    "        #return the shared covarience matrix for all classes\n",
    "        N = X.shape[0]\n",
    "        D = X.shape[1]\n",
    "        sigma = 0\n",
    "    \n",
    "        for j in range(N):\n",
    "            Mu_i = self.EstimateMu_i(X,Y,Y[j])\n",
    "            Mu_i = Mu_i.reshape(1,-1)\n",
    "            s = X[j].reshape(1,-1)\n",
    "            sigma  += np.matmul((s-Mu_i).T,(s-Mu_i))\n",
    "            \n",
    "        return(sigma/N)\n",
    "    \n",
    "    \n",
    "    \n",
    "    \n",
    "    def normal(self,X,Mu_i,sigma,Num_of_features):\n",
    "        # return the normal distribution fit for each feature \n",
    "        # p(x/y=i)\n",
    "        \n",
    "        Mu_i = Mu_i.reshape(1,-1)\n",
    "\n",
    "        det = np.linalg.det(sigma)\n",
    "        constant = (2*np.pi)**(-Num_of_features/2.0) * (((det**-0.5)))\n",
    "\n",
    "        w = np.matmul((X - Mu_i),(np.linalg.inv(sigma)))\n",
    "        w = w * ((X - Mu_i))\n",
    "        w = np.sum(w,axis=1)\n",
    "        w = (-0.5)*w\n",
    "        w = np.exp(w)\n",
    "        w = w.reshape(-1,1)\n",
    "\n",
    "        normal_i = constant * w\n",
    "        normal_i = normal_i.reshape(-1,1)\n",
    "        return normal_i\n",
    "    \n",
    "    \n",
    "    \n",
    "    \n",
    "    def fit(self,X,Y):\n",
    "        # Calculte probabilty of each class\n",
    "        # Calculate MU for all classes\n",
    "        # Calculate the shared sigma\n",
    "        \n",
    "        Classes = np.unique(Y)\n",
    "        self.Mu = []\n",
    "        self.prob_of_c = []\n",
    "        \n",
    "        for c in Classes:\n",
    "            self.Mu.append(self.EstimateMu_i(X,Y,c))\n",
    "            self.prob_of_c.append(self.CalculateprobabilityOfY(Y,c))\n",
    "            \n",
    "        self.sigma = self.EstimateSigma(X,Y)\n",
    "        return\n",
    "    \n",
    "    \n",
    "    \n",
    "    \n",
    "    def predict(self,X):\n",
    "        # predict the class for the test set\n",
    "        # p(c/x) = sum_for each class p(x/c=i)p(c=i)\n",
    "        # our calss is the one with the highest p(c/x)\n",
    "        \n",
    "        Num_of_features = X.shape[1]\n",
    "        Num_of_targets = len(self.Mu)\n",
    "\n",
    "        predections = []\n",
    "\n",
    "        for j in range(X.shape[0]):\n",
    "            prob = []\n",
    "            for i in range(Num_of_targets):\n",
    "                Mu_i = self.Mu[i]\n",
    "                Mu_i = Mu_i.reshape(1,-1)\n",
    "\n",
    "                prob_x_given_y_equal_i = self.normal(X[j],Mu_i,self.sigma,Num_of_features)\n",
    "\n",
    "                prob_of_y = self.prob_of_c[i]\n",
    "\n",
    "                p = prob_x_given_y_equal_i * prob_of_y\n",
    "\n",
    "                prob.append(p[0])\n",
    "\n",
    "                if i == (Num_of_targets - 1):\n",
    "                    predections.append(prob.index(max(prob)))\n",
    "                    \n",
    "        return predections\n",
    "    \n",
    "    \n",
    "    \n",
    "    def accuracy(self,predections,Y_true):\n",
    "        #from the predictoins and the true values \n",
    "        # calculate the accuracy of the model\n",
    "        \n",
    "        accuracy = np.sum((Y_true == predections)*1)/(Y_true.shape[0])\n",
    "        print ('accuracy: ' + str(round(accuracy, 2)))"
   ]
  },
  {
   "cell_type": "code",
   "execution_count": 126,
   "metadata": {},
   "outputs": [],
   "source": [
    "gda = GDA()"
   ]
  },
  {
   "cell_type": "code",
   "execution_count": 127,
   "metadata": {},
   "outputs": [],
   "source": [
    "gda.fit(X_train,Y_train)"
   ]
  },
  {
   "cell_type": "code",
   "execution_count": 128,
   "metadata": {},
   "outputs": [],
   "source": [
    "predections = gda.predict(X_test)"
   ]
  },
  {
   "cell_type": "code",
   "execution_count": 129,
   "metadata": {},
   "outputs": [
    {
     "name": "stdout",
     "output_type": "stream",
     "text": [
      "accuracy: 0.98\n"
     ]
    }
   ],
   "source": [
    "gda.accuracy(predections,Y_test)"
   ]
  },
  {
   "cell_type": "code",
   "execution_count": 130,
   "metadata": {},
   "outputs": [
    {
     "data": {
      "text/plain": [
       "<function matplotlib.pyplot.show>"
      ]
     },
     "execution_count": 130,
     "metadata": {},
     "output_type": "execute_result"
    },
    {
     "data": {
      "image/png": "[encoded data removed]",
      "text/plain": [
       "<Figure size 360x288 with 1 Axes>"
      ]
     },
     "metadata": {
      "needs_background": "light"
     },
     "output_type": "display_data"
    }
   ],
   "source": [
    "plt.figure(figsize=(5, 4))\n",
    "plt.scatter(X_test[:,0], X_test[:,1], c=predections)\n",
    "plt.show"
   ]
  }
 ],
 "metadata": {
  "kernelspec": {
   "display_name": "Python 3",
   "language": "python",
   "name": "python3"
  },
  "language_info": {
   "codemirror_mode": {
    "name": "ipython",
    "version": 3
   },
   "file_extension": ".py",
   "mimetype": "text/x-python",
   "name": "python",
   "nbconvert_exporter": "python",
   "pygments_lexer": "ipython3",
   "version": "3.7.3"
  }
 },
 "nbformat": 4,
 "nbformat_minor": 2
}
