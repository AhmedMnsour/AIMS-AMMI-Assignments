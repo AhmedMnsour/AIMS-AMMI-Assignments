{
 "cells": [
  {
   "cell_type": "code",
   "execution_count": 1,
   "metadata": {},
   "outputs": [],
   "source": [
    "import random as rd\n",
    "import numpy as np\n",
    "import seaborn as sns\n",
    "import pandas as pd\n",
    "import matplotlib.pyplot as plt\n",
    "import sklearn\n",
    "from sklearn import datasets\n",
    "%matplotlib inline"
   ]
  },
  {
   "cell_type": "code",
   "execution_count": 2,
   "metadata": {},
   "outputs": [],
   "source": [
    "class LogisticRegression():\n",
    "    \n",
    "    def __init__(self, lr, num_ebochs, fit_intercept = True):\n",
    "        self.lr = lr\n",
    "        self.num_ebochs = num_ebochs\n",
    "        self.fit_intercept = fit_intercept\n",
    "        self.w = None\n",
    "        \n",
    "    def sigmoid(self,z):\n",
    "        return 1 / (1 + np.exp(-z))\n",
    "    \n",
    "    def Loss(self,H,Y):\n",
    "        return -((Y*np.log(H)) + (1-Y)*(np.log(1-H)))\n",
    "            \n",
    "    def Gradient(self,X,Y,H):\n",
    "        Z = H - Y\n",
    "        Z = Z.reshape(1,1)\n",
    "        return np.dot(X.T, Z)\n",
    "        \n",
    "    def fit(self,X,Y):\n",
    "        \n",
    "        N = X.shape[0]\n",
    "        \n",
    "        if self.fit_intercept:\n",
    "            bias = np.ones((N,1))\n",
    "            X = np.concatenate((bias,X),axis=1)\n",
    "            \n",
    "        NumOfFeatures = X.shape[1]\n",
    "            \n",
    "        self.w = np.random.rand(NumOfFeatures,1)\n",
    "        \n",
    "        Done = False\n",
    "        epsilon = 0.0001\n",
    "        eboch = 0\n",
    "        \n",
    "        while eboch < self.num_ebochs:\n",
    "            eboch = eboch + 1\n",
    "            \n",
    "            for i in range(N):\n",
    "                H = self.sigmoid(np.dot(X[i].reshape(1,NumOfFeatures),self.w))\n",
    "                H = H.reshape(1,1)\n",
    "          \n",
    "                Gradient = self.Gradient(X[i].reshape(1,NumOfFeatures),Y[i].reshape(1,1),H)/N\n",
    "                \n",
    "                new_w = self.w - self.lr * Gradient\n",
    "                \n",
    "                '''\n",
    "                if np.sum(np.abs(new_w - self.w)) <= epsilon:\n",
    "                    print('converged')\n",
    "                    print(self.num_ebochs)\n",
    "                    \n",
    "                    Done = True\n",
    "                    break\n",
    "                '''\n",
    "                self.w = new_w\n",
    "                \n",
    "                \n",
    "    def predict(self,X):\n",
    "        if self.fit_intercept:\n",
    "            bias = np.ones((X.shape[0],1))\n",
    "            X = np.concatenate((bias,X),axis = 1)\n",
    "            \n",
    "        predections = self.sigmoid(np.dot(X,self.w))\n",
    "        return predections.round()"
   ]
  },
  {
   "cell_type": "code",
   "execution_count": 3,
   "metadata": {},
   "outputs": [],
   "source": [
    "iris = sklearn.datasets.load_iris()\n",
    "X = iris.data[:, :2]\n",
    "Y = (iris.target != 0) * 1"
   ]
  },
  {
   "cell_type": "code",
   "execution_count": 4,
   "metadata": {},
   "outputs": [],
   "source": [
    "order = np.random.permutation(len(X))\n",
    "test_split = 0.2"
   ]
  },
  {
   "cell_type": "code",
   "execution_count": 5,
   "metadata": {},
   "outputs": [],
   "source": [
    "split = int(X.shape[0] - X.shape[0]*0.2)\n",
    "\n",
    "X_train = X[order[:split]]\n",
    "X_test = X[order[split:]]\n",
    "\n",
    "Y_train = Y[order[:split]]\n",
    "Y_test = Y[order[split:]]"
   ]
  },
  {
   "cell_type": "code",
   "execution_count": 6,
   "metadata": {},
   "outputs": [],
   "source": [
    "logReg = LogisticRegression(0.1, 3000)\n",
    "logReg.fit(X_train,Y_train)"
   ]
  },
  {
   "cell_type": "code",
   "execution_count": 7,
   "metadata": {},
   "outputs": [],
   "source": [
    "pred = logReg.predict(X_test)"
   ]
  }
 ],
 "metadata": {
  "kernelspec": {
   "display_name": "Python 3",
   "language": "python",
   "name": "python3"
  },
  "language_info": {
   "codemirror_mode": {
    "name": "ipython",
    "version": 3
   },
   "file_extension": ".py",
   "mimetype": "text/x-python",
   "name": "python",
   "nbconvert_exporter": "python",
   "pygments_lexer": "ipython3",
   "version": "3.7.3"
  }
 },
 "nbformat": 4,
 "nbformat_minor": 2
}
