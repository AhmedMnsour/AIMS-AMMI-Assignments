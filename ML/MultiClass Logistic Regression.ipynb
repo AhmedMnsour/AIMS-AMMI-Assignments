{
 "cells": [
  {
   "cell_type": "markdown",
   "metadata": {},
   "source": [
    "### Import required Libraries"
   ]
  },
  {
   "cell_type": "code",
   "execution_count": 298,
   "metadata": {},
   "outputs": [],
   "source": [
    "import random as rd\n",
    "import numpy as np\n",
    "import seaborn as sns\n",
    "import pandas as pd\n",
    "import matplotlib.pyplot as plt\n",
    "import sklearn\n",
    "from sklearn import datasets\n",
    "%matplotlib inline"
   ]
  },
  {
   "cell_type": "markdown",
   "metadata": {},
   "source": [
    "### Generate the dataset"
   ]
  },
  {
   "cell_type": "code",
   "execution_count": 299,
   "metadata": {},
   "outputs": [],
   "source": [
    "iris = sklearn.datasets.load_iris()\n",
    "X = iris.data\n",
    "Y = iris.target"
   ]
  },
  {
   "cell_type": "code",
   "execution_count": 300,
   "metadata": {},
   "outputs": [
    {
     "data": {
      "image/png": "[encoded data removed]",
      "text/plain": [
       "<Figure size 720x432 with 1 Axes>"
      ]
     },
     "metadata": {
      "needs_background": "light"
     },
     "output_type": "display_data"
    }
   ],
   "source": [
    "plt.figure(figsize=(10, 6))\n",
    "plt.scatter(X[Y == 0][:, 0], X[Y == 0][:, 1], color='b', label='0')\n",
    "plt.scatter(X[Y == 1][:, 0], X[Y == 1][:, 1], color='r', label='1')\n",
    "plt.scatter(X[Y == 2][:, 0], X[Y == 1][:, 1], color='g', label='2')\n",
    "plt.legend();"
   ]
  },
  {
   "cell_type": "markdown",
   "metadata": {},
   "source": [
    "### Get the data and split it into training and testing"
   ]
  },
  {
   "cell_type": "code",
   "execution_count": 301,
   "metadata": {},
   "outputs": [],
   "source": [
    "N = X.shape[0]\n",
    "bias = np.ones((N,1))\n",
    "X = np.concatenate((bias,X),axis=1)"
   ]
  },
  {
   "cell_type": "code",
   "execution_count": 302,
   "metadata": {},
   "outputs": [],
   "source": [
    "num_classes = len(np.unique(Y))"
   ]
  },
  {
   "cell_type": "markdown",
   "metadata": {},
   "source": [
    "### Shuffle the Data"
   ]
  },
  {
   "cell_type": "code",
   "execution_count": 303,
   "metadata": {},
   "outputs": [],
   "source": [
    "order = np.random.permutation(len(X))"
   ]
  },
  {
   "cell_type": "code",
   "execution_count": 304,
   "metadata": {},
   "outputs": [],
   "source": [
    "X_train = X[order[0:120]]\n",
    "X_test = X[order[120:]]\n",
    "\n",
    "Y_train = Y[order[0:120]]\n",
    "Y_test = Y[order[120:]]"
   ]
  },
  {
   "cell_type": "markdown",
   "metadata": {},
   "source": [
    "### One Hot encoding"
   ]
  },
  {
   "cell_type": "code",
   "execution_count": 271,
   "metadata": {},
   "outputs": [
    {
     "data": {
      "text/plain": [
       "array([[1., 0., 0.],\n",
       "       [0., 1., 0.],\n",
       "       [0., 0., 1.]])"
      ]
     },
     "execution_count": 271,
     "metadata": {},
     "output_type": "execute_result"
    }
   ],
   "source": [
    "classes = np.unique(Y)\n",
    "def oneHotEncoding(classes):\n",
    "    y_enc = (np.arange(np.max(classes) + 1) == classes[:, None]).astype(float)\n",
    "    return y_enc\n",
    "classes = oneHotEncoding(classes)\n",
    "classes"
   ]
  },
  {
   "cell_type": "markdown",
   "metadata": {},
   "source": [
    "### The Softmax Function"
   ]
  },
  {
   "cell_type": "code",
   "execution_count": 272,
   "metadata": {},
   "outputs": [],
   "source": [
    "def softmax(z):\n",
    "    z = z.reshape(1,-1)\n",
    "    z -= np.max(z)\n",
    "    sm = (np.exp(z)/ np.sum(np.exp(z),axis=1))\n",
    "    return sm"
   ]
  },
  {
   "cell_type": "markdown",
   "metadata": {},
   "source": [
    "### Define the loss function"
   ]
  },
  {
   "cell_type": "code",
   "execution_count": 273,
   "metadata": {},
   "outputs": [],
   "source": [
    "def loss(z,y):\n",
    "    return - np.log(softmax(z))[0][y]"
   ]
  },
  {
   "cell_type": "markdown",
   "metadata": {},
   "source": [
    "### Define the gradient"
   ]
  },
  {
   "cell_type": "code",
   "execution_count": 278,
   "metadata": {},
   "outputs": [],
   "source": [
    "def gradient(x,w,y):\n",
    "    \n",
    "    grad = np.zeros_like(w)\n",
    "    \n",
    "    z = x.dot(w)\n",
    "    sm = softmax(z)\n",
    "    \n",
    "    grad[:,y] = (x * sm[0][y]) - x\n",
    "\n",
    "    selector = [a for a in range(num_classes) if a != y]\n",
    "    for j in selector:\n",
    "        grad[:,j] = (x * sm[0][j])\n",
    "    \n",
    "    return grad"
   ]
  },
  {
   "cell_type": "markdown",
   "metadata": {},
   "source": [
    "### Init the weights"
   ]
  },
  {
   "cell_type": "code",
   "execution_count": 279,
   "metadata": {},
   "outputs": [],
   "source": [
    "NumOfFeatures = X.shape[1]\n",
    "w = np.random.rand(NumOfFeatures,num_classes)"
   ]
  },
  {
   "cell_type": "markdown",
   "metadata": {},
   "source": [
    "### Stochastic Gradient Descent"
   ]
  },
  {
   "cell_type": "code",
   "execution_count": 280,
   "metadata": {},
   "outputs": [
    {
     "name": "stdout",
     "output_type": "stream",
     "text": [
      "converged\n",
      "487\n"
     ]
    }
   ],
   "source": [
    "N = X_train.shape[0] # number of training points\n",
    "\n",
    "Done = False\n",
    "lr = 0.01\n",
    "n_ebochs = 0\n",
    "epsilon = 1e-5\n",
    "\n",
    "while not Done:\n",
    "    n_ebochs = n_ebochs + 1\n",
    "    \n",
    "    for i in range(N):\n",
    "        x = X_train[i]\n",
    "        y = Y_train[i]\n",
    "        \n",
    "        g = gradient(x,w,y)\n",
    "    \n",
    "        new_w = w - lr*g\n",
    "        \n",
    "        if np.sum(np.abs(new_w - w)) <= epsilon:\n",
    "            Done = True\n",
    "            print('converged')\n",
    "            print(n_ebochs)\n",
    "            break\n",
    "        w = new_w"
   ]
  },
  {
   "cell_type": "code",
   "execution_count": 281,
   "metadata": {},
   "outputs": [],
   "source": [
    "def predict(x,w):\n",
    "    predections = []\n",
    "    for i in range(x.shape[0]):\n",
    "        z = x[i].dot(w)\n",
    "        z = softmax(z)\n",
    "        z = np.argmax(z,axis=1)\n",
    "        predections.append(z[0])\n",
    "    return np.array(predections)    "
   ]
  },
  {
   "cell_type": "code",
   "execution_count": 282,
   "metadata": {},
   "outputs": [
    {
     "name": "stdout",
     "output_type": "stream",
     "text": [
      "[0 2 0 2 2 2 0 0 2 1 2 2 2 0 1 2 0 0 2 0 2 2 2 2 2 0 1 2 0 0]\n",
      "[0 2 0 1 2 2 0 0 2 1 2 2 2 0 1 2 0 0 1 0 2 2 2 2 2 0 1 2 0 0]\n"
     ]
    }
   ],
   "source": [
    "predections = predict(X_test,w)\n",
    "print(predections)\n",
    "print(Y_test)"
   ]
  }
 ],
 "metadata": {
  "kernelspec": {
   "display_name": "Python 3",
   "language": "python",
   "name": "python3"
  },
  "language_info": {
   "codemirror_mode": {
    "name": "ipython",
    "version": 3
   },
   "file_extension": ".py",
   "mimetype": "text/x-python",
   "name": "python",
   "nbconvert_exporter": "python",
   "pygments_lexer": "ipython3",
   "version": "3.7.3"
  }
 },
 "nbformat": 4,
 "nbformat_minor": 2
}
