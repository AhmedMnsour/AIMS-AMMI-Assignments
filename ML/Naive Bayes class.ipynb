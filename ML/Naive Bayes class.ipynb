{
 "cells": [
  {
   "cell_type": "markdown",
   "metadata": {},
   "source": [
    "![title](logo.jpg)"
   ]
  },
  {
   "cell_type": "markdown",
   "metadata": {},
   "source": [
    "# Naive Bayes\n",
    "# Spam Classification "
   ]
  },
  {
   "cell_type": "markdown",
   "metadata": {},
   "source": [
    "Import required libraries"
   ]
  },
  {
   "cell_type": "code",
   "execution_count": 316,
   "metadata": {},
   "outputs": [],
   "source": [
    "import numpy as np\n",
    "import pandas as pd\n",
    "import nltk\n",
    "import string\n",
    "import sklearn\n",
    "from sklearn.model_selection import train_test_split\n",
    "from sklearn.feature_extraction.text import CountVectorizer"
   ]
  },
  {
   "cell_type": "code",
   "execution_count": 317,
   "metadata": {},
   "outputs": [],
   "source": [
    "df = pd.read_table('smsspamcollection/SMSSpamCollection',header=None, names=['label', 'sms_message'])"
   ]
  },
  {
   "cell_type": "code",
   "execution_count": 318,
   "metadata": {},
   "outputs": [
    {
     "data": {
      "text/html": [
       "<div>\n",
       "<style scoped>\n",
       "    .dataframe tbody tr th:only-of-type {\n",
       "        vertical-align: middle;\n",
       "    }\n",
       "\n",
       "    .dataframe tbody tr th {\n",
       "        vertical-align: top;\n",
       "    }\n",
       "\n",
       "    .dataframe thead th {\n",
       "        text-align: right;\n",
       "    }\n",
       "</style>\n",
       "<table border=\"1\" class=\"dataframe\">\n",
       "  <thead>\n",
       "    <tr style=\"text-align: right;\">\n",
       "      <th></th>\n",
       "      <th>label</th>\n",
       "      <th>sms_message</th>\n",
       "    </tr>\n",
       "  </thead>\n",
       "  <tbody>\n",
       "    <tr>\n",
       "      <th>0</th>\n",
       "      <td>ham</td>\n",
       "      <td>Go until jurong point, crazy.. Available only ...</td>\n",
       "    </tr>\n",
       "    <tr>\n",
       "      <th>1</th>\n",
       "      <td>ham</td>\n",
       "      <td>Ok lar... Joking wif u oni...</td>\n",
       "    </tr>\n",
       "    <tr>\n",
       "      <th>2</th>\n",
       "      <td>spam</td>\n",
       "      <td>Free entry in 2 a wkly comp to win FA Cup fina...</td>\n",
       "    </tr>\n",
       "    <tr>\n",
       "      <th>3</th>\n",
       "      <td>ham</td>\n",
       "      <td>U dun say so early hor... U c already then say...</td>\n",
       "    </tr>\n",
       "    <tr>\n",
       "      <th>4</th>\n",
       "      <td>ham</td>\n",
       "      <td>Nah I don't think he goes to usf, he lives aro...</td>\n",
       "    </tr>\n",
       "  </tbody>\n",
       "</table>\n",
       "</div>"
      ],
      "text/plain": [
       "  label                                        sms_message\n",
       "0   ham  Go until jurong point, crazy.. Available only ...\n",
       "1   ham                      Ok lar... Joking wif u oni...\n",
       "2  spam  Free entry in 2 a wkly comp to win FA Cup fina...\n",
       "3   ham  U dun say so early hor... U c already then say...\n",
       "4   ham  Nah I don't think he goes to usf, he lives aro..."
      ]
     },
     "execution_count": 318,
     "metadata": {},
     "output_type": "execute_result"
    }
   ],
   "source": [
    "df.head()"
   ]
  },
  {
   "cell_type": "markdown",
   "metadata": {},
   "source": [
    "## Preprocessing"
   ]
  },
  {
   "cell_type": "code",
   "execution_count": 319,
   "metadata": {},
   "outputs": [],
   "source": [
    "def isHam(x):\n",
    "    if x == 'ham':\n",
    "        return 0\n",
    "    else:\n",
    "        return 1\n",
    "\n",
    "df['label'] = df['label'].apply(isHam)"
   ]
  },
  {
   "cell_type": "code",
   "execution_count": 320,
   "metadata": {},
   "outputs": [],
   "source": [
    "X_train, X_test, Y_train, Y_test = train_test_split(df['sms_message'],  df['label'],  random_state=1)"
   ]
  },
  {
   "cell_type": "markdown",
   "metadata": {},
   "source": [
    "### Using CountVectorizor from SKlearn"
   ]
  },
  {
   "cell_type": "code",
   "execution_count": 321,
   "metadata": {},
   "outputs": [],
   "source": [
    "count_vector = CountVectorizer()\n",
    "\n",
    "X_train = count_vector.fit_transform(X_train).toarray()\n",
    "\n",
    "X_test = count_vector.transform(X_test).toarray()"
   ]
  },
  {
   "cell_type": "code",
   "execution_count": 322,
   "metadata": {},
   "outputs": [],
   "source": [
    "X_train = (X_train >= 1)*1\n",
    "X_test = (X_test >= 1)*1\n",
    "\n",
    "Y_train = np.array(Y_train)\n",
    "Y_test = np.array(Y_test)"
   ]
  },
  {
   "cell_type": "markdown",
   "metadata": {},
   "source": [
    "Naive Bayes Class"
   ]
  },
  {
   "cell_type": "code",
   "execution_count": 325,
   "metadata": {},
   "outputs": [],
   "source": [
    "class naiveBayes():\n",
    "    \n",
    "    def __init__(self):\n",
    "        self.phi = None\n",
    "        self.p_y_i = None\n",
    "        \n",
    "    def CalculateprobabilityOfC(self,Y,i):\n",
    "        #return the probability of class c - p(c=i)\n",
    "        return np.sum((Y == i)*1)/Y.shape[0]\n",
    "    \n",
    "    \n",
    "    \n",
    "    def EstimatePhi_i(self,X,i,target):\n",
    "        #estimate the value for phi for class i\n",
    "        sum_i = X[X[target] == i].shape[0]\n",
    "        phi_i = (np.sum(X[X[target]==i],axis=0)+1)/(2*sum_i)\n",
    "        phi_i = np.array(phi_i[0:-1]).reshape(1,-1)\n",
    "        return phi_i\n",
    "    \n",
    "    \n",
    "    \n",
    "    def fit(self,X,Y):\n",
    "        \n",
    "        target = 'labels'\n",
    "        X_ = pd.DataFrame(X)\n",
    "        X_[target] =  Y\n",
    "        \n",
    "        Classes = np.unique(Y)\n",
    "        self.phi = []\n",
    "        self.p_y_i = []\n",
    "\n",
    "        for c in Classes:\n",
    "            self.phi.append(self.EstimatePhi_i(X_,c,target))\n",
    "            self.p_y_i.append(self.CalculateprobabilityOfC(Y,c))\n",
    "        return\n",
    "    \n",
    "    def predict(self,X):\n",
    "        \n",
    "        predections = []\n",
    "        N = X.shape[0]\n",
    "        \n",
    "        Classes = len(self.phi)\n",
    "        \n",
    "        for i in range(N):\n",
    "            prob = []\n",
    "\n",
    "            for c in range(Classes):\n",
    "                phi_i = self.phi[c]\n",
    "                \n",
    "                test = X[i].reshape(1,-1)\n",
    "\n",
    "                p = np.zeros((phi_i.shape[0],phi_i.shape[1]))\n",
    "\n",
    "                p[test > 0] = phi_i[test > 0]\n",
    "                p[test == 0] = (1-phi_i)[test == 0]\n",
    "                \n",
    "                \n",
    "                p_x_c_i = np.sum(np.log(p)) \n",
    "                p_c_i_x = p_x_c_i + np.log(self.p_y_i[c])\n",
    "\n",
    "                prob.append(p_c_i_x)\n",
    "\n",
    "            predections.append(prob.index(max(prob)))  \n",
    "        return predections\n",
    "    \n",
    "    def accuracy(self,predections,Y_true):\n",
    "        accuracy = np.sum((Y_true == predections)*1)/(Y_true.shape[0])\n",
    "        print ('accuracy: ' + str(round(accuracy, 3)))"
   ]
  },
  {
   "cell_type": "code",
   "execution_count": 326,
   "metadata": {},
   "outputs": [],
   "source": [
    "NB = naiveBayes()"
   ]
  },
  {
   "cell_type": "code",
   "execution_count": 327,
   "metadata": {},
   "outputs": [],
   "source": [
    "NB.fit(X_train,Y_train)"
   ]
  },
  {
   "cell_type": "code",
   "execution_count": 328,
   "metadata": {},
   "outputs": [],
   "source": [
    "predictions = NB.predict(X_test)"
   ]
  },
  {
   "cell_type": "code",
   "execution_count": 329,
   "metadata": {},
   "outputs": [
    {
     "name": "stdout",
     "output_type": "stream",
     "text": [
      "accuracy: 0.988\n"
     ]
    }
   ],
   "source": [
    "NB.accuracy(predictions,Y_test)"
   ]
  }
 ],
 "metadata": {
  "kernelspec": {
   "display_name": "Python 3",
   "language": "python",
   "name": "python3"
  },
  "language_info": {
   "codemirror_mode": {
    "name": "ipython",
    "version": 3
   },
   "file_extension": ".py",
   "mimetype": "text/x-python",
   "name": "python",
   "nbconvert_exporter": "python",
   "pygments_lexer": "ipython3",
   "version": "3.7.3"
  }
 },
 "nbformat": 4,
 "nbformat_minor": 2
}
