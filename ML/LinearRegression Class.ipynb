{
 "cells": [
  {
   "cell_type": "code",
   "execution_count": 30,
   "metadata": {},
   "outputs": [],
   "source": [
    "import numpy as np\n",
    "import pandas as pd\n",
    "import matplotlib.pyplot as plt\n",
    "import seaborn as sns\n",
    "%matplotlib inline"
   ]
  },
  {
   "cell_type": "code",
   "execution_count": 1,
   "metadata": {},
   "outputs": [],
   "source": [
    "class LinearRegression():\n",
    "    \n",
    "    def __init__(self, lr, n_ebochs, fit_intercept=True):\n",
    "        self.fit_intercept = fit_intercept\n",
    "        self.n_ebochs = n_ebochs\n",
    "        self.lr = lr\n",
    "        self.w = None\n",
    "        \n",
    "    def add_intercept(self,X):\n",
    "        intercept = np.ones((X.shape[0], 1))\n",
    "        return np.concatenate((intercept, X), axis=1)\n",
    "        \n",
    "        \n",
    "    def fit(self,X,Y,verbous = False):\n",
    "        \n",
    "        N_inputs = X.shape[0]     \n",
    "        N_features = X.shape[1]\n",
    "        N_predections = Y.shape[1]\n",
    "        \n",
    "        if self.fit_intercept:\n",
    "            X = self.add_intercept(X)\n",
    "            \n",
    "        #init weights\n",
    "        self.w = np.random.rand(N_features,N_predections)\n",
    "        \n",
    "        for i in range(self.n_ebochs):\n",
    "            \n",
    "            Gradient = ((X.T.dot(X)).dot(self.w) - X.T.dot(Y)) / N_inputs\n",
    "            self.w = self.w - self.lr * Gradient\n",
    "            \n",
    "            if verbous:\n",
    "                Loss = (((X.dot(self.w) - Y).T).dot(((X.dot(self.w)) - Y))) * 0.5 / N_inputs\n",
    "                print('Epoch: ' + str(i) + 'Loss: ' + str(Loss))\n",
    "                \n",
    "                \n",
    "    def getParams(self):\n",
    "        return self.w\n",
    "    \n",
    "    \n",
    "    def predict(self,X):\n",
    "        if self.fit_intercept:\n",
    "            X = self.add_intercept(X)\n",
    "        return X.dot(self.w)"
   ]
  }
 ],
 "metadata": {
  "kernelspec": {
   "display_name": "Python 3",
   "language": "python",
   "name": "python3"
  },
  "language_info": {
   "codemirror_mode": {
    "name": "ipython",
    "version": 3
   },
   "file_extension": ".py",
   "mimetype": "text/x-python",
   "name": "python",
   "nbconvert_exporter": "python",
   "pygments_lexer": "ipython3",
   "version": "3.7.3"
  }
 },
 "nbformat": 4,
 "nbformat_minor": 2
}
