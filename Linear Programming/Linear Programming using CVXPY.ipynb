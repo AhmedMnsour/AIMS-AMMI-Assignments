{
 "cells": [
  {
   "cell_type": "markdown",
   "metadata": {},
   "source": [
    "# Linear Programming using CVXPY"
   ]
  },
  {
   "cell_type": "code",
   "execution_count": 21,
   "metadata": {},
   "outputs": [],
   "source": [
    "# Make sure you have the package cvxpy installed\n",
    "import cvxpy as cp\n",
    "import numpy as np"
   ]
  },
  {
   "cell_type": "markdown",
   "metadata": {},
   "source": [
    "# Exercise 1"
   ]
  },
  {
   "cell_type": "markdown",
   "metadata": {},
   "source": [
    "A carpenter makes tables and chairs. Each table can be sold for a profit of £30 and each chair for a profit of £10. The carpenter can afford to spend up to 40 hours per week working and takes six hours to make a table and three hours to make a chair. Customer demand requires that he makes at least three times as many chairs as tables. Tables take up four times as much storage space as chairs and there is room for at most four tables each week. "
   ]
  },
  {
   "cell_type": "code",
   "execution_count": 22,
   "metadata": {},
   "outputs": [
    {
     "name": "stdout",
     "output_type": "stream",
     "text": [
      "optimal value for profit 146.66666666666666\n",
      "optimal number of units for Tables : 1.3333333333333333 units\n",
      "optimal number of units for Chairs : 10.666666666666664 units\n"
     ]
    }
   ],
   "source": [
    "# variable T number of tables produced per week.\n",
    "# variable C number of chairs produced per week.\n",
    "T = cp.Variable()\n",
    "C = cp.Variable()\n",
    "#The constraints.\n",
    "constraints = [6*T + 3*C <= 40,\n",
    "               C >= 3*T,\n",
    "               (C/4.0) + T <= 4,\n",
    "               T >= 0,\n",
    "               C >= 0]\n",
    "\n",
    "# The objective maximize profit.\n",
    "obj = cp.Maximize(30*T + 10*C )\n",
    "\n",
    "\n",
    "prob = cp.Problem(obj, constraints)\n",
    "prob.solve()  # Return the optimal value.\n",
    "print(\"optimal value for profit\", prob.value)\n",
    "print(\"optimal number of units for Tables :\", T.value , 'units')\n",
    "print(\"optimal number of units for Chairs :\", C.value, 'units')"
   ]
  },
  {
   "cell_type": "markdown",
   "metadata": {},
   "source": [
    "# Exercise 2"
   ]
  },
  {
   "cell_type": "raw",
   "metadata": {},
   "source": [
    "A company manufactures two products (A and B) and the profit per unit sold is $3 and $5 respectively. Each product has to be assembled on a particular machine, each unit of product A taking 12 minutes of assembly time and each unit of product B 25 minutes of assembly time. The company estimates that the machine used for assembly has an effective working week of only 30 hours (due to maintenance/breakdown).\n",
    "\n",
    "Technological constraints mean that for every five units of product A produced at least two units of product B must be produced.\n",
    "\n",
    "Formulate the problem of how much of each product to produce as a linear program and solve.\n",
    " \n",
    "The company has been offered the chance to hire an extra machine, thereby doubling the effective assembly time available. What is the maximum amount you would be prepared to pay (per week) for the hire of this machine and why?\n"
   ]
  },
  {
   "cell_type": "code",
   "execution_count": 23,
   "metadata": {},
   "outputs": [
    {
     "name": "stdout",
     "output_type": "stream",
     "text": [
      "status: optimal\n",
      "optimal value for profit 409.09090909090907\n",
      "optimal units of product A: 81.81818181818181 units\n",
      "optimal units of product B: 32.72727272727273 units\n"
     ]
    }
   ],
   "source": [
    "# variable A number of units produced per week for product A.\n",
    "# variable B number of units produced per week for product B.\n",
    "A = cp.Variable()\n",
    "B = cp.Variable()\n",
    "\n",
    "# The constraints.\n",
    "constraints = [12*A + 25*B <= 1800,\n",
    "               B >= 2*(A/5.0),\n",
    "               A >= 0,\n",
    "               B >= 0]\n",
    "\n",
    "# The objective maximize profit..\n",
    "obj = cp.Maximize(3*A + 5*B )\n",
    "\n",
    "# Form and solve problem.\n",
    "prob = cp.Problem(obj, constraints)\n",
    "prob.solve()  # Returns the optimal value.\n",
    "print(\"status:\", prob.status)\n",
    "print(\"optimal value for profit\", prob.value)\n",
    "print(\"optimal units of product A:\", A.value, 'units')\n",
    "print(\"optimal units of product B:\", B.value, 'units')"
   ]
  },
  {
   "cell_type": "code",
   "execution_count": 24,
   "metadata": {},
   "outputs": [
    {
     "name": "stdout",
     "output_type": "stream",
     "text": [
      "status: optimal\n",
      "optimal value for profit 818.1818181818181\n"
     ]
    }
   ],
   "source": [
    "## Adding a new machine will affect the constraint of effective working week for the machine\n",
    "## result in doubling it to (2*1800) = 3600\n",
    "## Thus solving with this new cnstraint\n",
    "\n",
    "A = cp.Variable()\n",
    "B = cp.Variable()\n",
    "\n",
    "# The constraints.\n",
    "constraints = [12*A + 25*B <= 3600,\n",
    "               B >= 2*(A/5.0),\n",
    "               A >= 0,\n",
    "               B >= 0]\n",
    "\n",
    "# The objective maximize profit..\n",
    "obj = cp.Maximize(3*A + 5*B )\n",
    "\n",
    "# Form and solve problem.\n",
    "prob = cp.Problem(obj, constraints)\n",
    "prob.solve()  # Returns the optimal value.\n",
    "print(\"status:\", prob.status)\n",
    "print(\"optimal value for profit\", prob.value)"
   ]
  },
  {
   "cell_type": "code",
   "execution_count": 25,
   "metadata": {},
   "outputs": [],
   "source": [
    "# The maximum profit with two machines is 818.18 and for one machine is 409.09\n",
    "# Thus the maximum amount we can pay (per week) to hire the new machine is the\n",
    "# difference between profits : 818.18 - 409.09 = 409.09"
   ]
  },
  {
   "cell_type": "markdown",
   "metadata": {},
   "source": [
    "# Exercise 3"
   ]
  },
  {
   "cell_type": "raw",
   "metadata": {},
   "source": [
    "A local clinic wants to produce a guide to healthy living. The clinic intends to produce the guide in two formats: a short video and a printed book. The clinic needs to decide how many of each format to produce for sale. Estimates show that no more than 10 000 copies of both items together will be sold. At least 4 000 copies of the video and at least 2 000 copies of the book could be sold, although sales of the book are not expected to exceed 4 000 copies. Let x be the number of videos sold, and y the number of printed books sold. Each video will sell for £50 and each book for £30. Write down the objective function and contraints and solve for What maximum income will be generated by the two guides?"
   ]
  },
  {
   "cell_type": "code",
   "execution_count": 26,
   "metadata": {},
   "outputs": [
    {
     "name": "stdout",
     "output_type": "stream",
     "text": [
      "optimal value for profit 460000.0\n",
      "optimal number of units for Books : 2000.0 units\n",
      "optimal number of units for Videos : 8000.0 units\n"
     ]
    }
   ],
   "source": [
    "# variable B number of books to be produced.\n",
    "# variable V number of videos to be produced.\n",
    "B = cp.Variable()\n",
    "V = cp.Variable()\n",
    "#The constraints.\n",
    "constraints = [V + B <= 10000,\n",
    "               V >= 4000,\n",
    "               B >= 2000,\n",
    "               B <= 4000\n",
    "              ]\n",
    "\n",
    "# The objective maximize profit.\n",
    "obj = cp.Maximize(50*V + 30*B )\n",
    "\n",
    "\n",
    "prob = cp.Problem(obj, constraints)\n",
    "prob.solve()  # Return the optimal value.\n",
    "print(\"optimal value for profit\", prob.value)\n",
    "print(\"optimal number of units for Books :\", B.value , 'units')\n",
    "print(\"optimal number of units for Videos :\", V.value, 'units')"
   ]
  }
 ],
 "metadata": {
  "kernelspec": {
   "display_name": "Python 3",
   "language": "python",
   "name": "python3"
  },
  "language_info": {
   "codemirror_mode": {
    "name": "ipython",
    "version": 3
   },
   "file_extension": ".py",
   "mimetype": "text/x-python",
   "name": "python",
   "nbconvert_exporter": "python",
   "pygments_lexer": "ipython3",
   "version": "3.7.3"
  }
 },
 "nbformat": 4,
 "nbformat_minor": 4
}
